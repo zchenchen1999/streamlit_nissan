{
 "cells": [
  {
   "attachments": {},
   "cell_type": "markdown",
   "metadata": {},
   "source": [
    "# 說明\n",
    "將構面字典 csv 檔案轉為 json"
   ]
  },
  {
   "cell_type": "code",
   "execution_count": 12,
   "metadata": {},
   "outputs": [],
   "source": [
    "import pandas as pd\n",
    "import json"
   ]
  },
  {
   "cell_type": "code",
   "execution_count": 13,
   "metadata": {},
   "outputs": [
    {
     "data": {
      "text/plain": [
       "dict_keys(['成就感', '學習成長', '創新', '薪資', '福利', '管理制度', '工作氛圍', '同事互動', '主管風格', '工作地點', '公司規模', '工作環境', '產業前景', '多元性', '企業社會責任', '企業永續目標', '變化性', '工學院', '理學院', '管理學院/商學院', '社會學院', '文學院', '面試', '學經歷', '徵才', '實習', '工作', '離職', '新鮮人', '畢業', '證照', '招募人員', '正向', '負向'])"
      ]
     },
     "execution_count": 13,
     "metadata": {},
     "output_type": "execute_result"
    }
   ],
   "source": [
    "# dict_ = pd.read_csv('../構面字典-new.csv')\n",
    "dict_ = pd.read_csv('../data/aspect.csv')\n",
    "df_dict = dict_[['name','alias']]\n",
    "d_list = df_dict.to_dict(orient='records')\n",
    "structure_dict = {} # 構面字典 => name:alias\n",
    "for i in d_list:\n",
    "    structure_dict[i['name']] = i['alias']\n",
    "structure_dict.keys()#key:成就感,..."
   ]
  },
  {
   "cell_type": "code",
   "execution_count": 14,
   "metadata": {},
   "outputs": [],
   "source": [
    "structure_origin = dict_[['class','name']]\n",
    "structures_list = structure_origin['class'].unique().tolist() # 有哪些構面字陣列\n",
    "\n",
    "structure_origin_list = pd.DataFrame(structure_origin.groupby('class')['name'].apply(list)).reset_index().to_dict(orient='records')\n",
    "transformed_data = [{item['class']: item['name']} for item in structure_origin_list] # 取得構面字典，型態為list of dict"
   ]
  },
  {
   "cell_type": "code",
   "execution_count": 15,
   "metadata": {},
   "outputs": [
    {
     "data": {
      "text/plain": [
       "{'人際價值': ['工作氛圍', '同事互動', '主管風格'],\n",
       " '情緒': ['正向', '負向'],\n",
       " '成長價值': ['成就感', '學習成長', '創新'],\n",
       " '招募資訊': ['面試', '學經歷', '徵才', '實習', '工作', '離職', '新鮮人', '畢業', '證照', '招募人員'],\n",
       " '科系專業': ['工學院', '理學院', '管理學院/商學院', '社會學院', '文學院'],\n",
       " '組織文化與制度': ['工作地點', '公司規模', '工作環境', '產業前景', '多元性', '企業社會責任', '企業永續目標', '變化性'],\n",
       " '經濟報酬': ['薪資', '福利', '管理制度']}"
      ]
     },
     "execution_count": 15,
     "metadata": {},
     "output_type": "execute_result"
    }
   ],
   "source": [
    "new_dict = {}\n",
    "for i in transformed_data:\n",
    "    new_dict[list(i.keys())[0]] = list(i.values())[0]\n",
    "new_dict"
   ]
  },
  {
   "cell_type": "code",
   "execution_count": 17,
   "metadata": {},
   "outputs": [],
   "source": [
    "tf = open(\"../data/aspect.json\", \"w\")\n",
    "json.dump(new_dict,tf)"
   ]
  },
  {
   "cell_type": "code",
   "execution_count": null,
   "metadata": {},
   "outputs": [],
   "source": []
  }
 ],
 "metadata": {
  "kernelspec": {
   "display_name": "sma",
   "language": "python",
   "name": "python3"
  },
  "language_info": {
   "codemirror_mode": {
    "name": "ipython",
    "version": 3
   },
   "file_extension": ".py",
   "mimetype": "text/x-python",
   "name": "python",
   "nbconvert_exporter": "python",
   "pygments_lexer": "ipython3",
   "version": "3.7.13"
  },
  "orig_nbformat": 4
 },
 "nbformat": 4,
 "nbformat_minor": 2
}
